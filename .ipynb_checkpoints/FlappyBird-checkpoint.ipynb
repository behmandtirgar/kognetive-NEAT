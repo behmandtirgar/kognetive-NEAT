{
 "cells": [
  {
   "cell_type": "markdown",
   "metadata": {},
   "source": [
    "##### Hola!<br>\n",
    "My name is Behmand. In this Notebook, I would like to explain **_NEAT_** and **_Evolutionary Strategy_** on the popular classic [__Flappy bird__](https://chrome.google.com/webstore/detail/flappy-bird-offline/pidkjcapccmhpdokcjnkngcflobhopdl?hl=de)\n",
    " game (created by [__Sushant Patrikar__](https://github.com/sushantPatrikar/flappybirdAI)) and make him immortal using applying NEAT theory to him.\n",
    "\n",
    "<table><tr>\n",
    "<td> \n",
    "  <p align=\"center\" style=\"padding: 10px\">\n",
    "    <img alt=\"Forwarding\" src=\"src/logo.jpg\" width=\"150\">\n",
    "    <br>\n",
    "    <center><em style=\"color: grey\">Flappy Bird Game using NEAT</em></center>\n",
    "  </p> \n",
    "</td>\n",
    "</tr></table>"
   ]
  },
  {
   "cell_type": "markdown",
   "metadata": {},
   "source": [
    "### __Objectives:__\n",
    ">&#9658; **Describes** a scenario that offers customizable challenges (e.g. a game)<br>\n",
    ">&#9658; **Explains** the challenges for the agents to learn<br>\n",
    ">&#9658; **Designed** the technical implementation of the learning (Architecture, perceptions, states, actions, etc.)"
   ]
  },
  {
   "cell_type": "markdown",
   "metadata": {},
   "source": [
    "#### __1) Scenario__<br>\n",
    ">* __Gameplay:__\n",
    ">\" the FlappyBird’s GamePlay. Flappy Bird was a side-scrolling mobile game featuring 2D retro-style graphics. The objective was to direct a flying bird, named “Faby”, who moves continuously to the right, between sets of Mario-like pipes. If the player touches the pipes, they lose. Faby briefly flaps upward each time that the player taps the screen; if the screen is not tapped, Faby falls because of gravity; each pair of pipes that he navigates between earns the player a single point, with medals awarded for the score at the end of the game. \"  [![Img AltText](src/logo_link.jpg)](https://github.com/GuidebeeGameEngine/FlappyBird \"Source\")\n",
    ">\n",
    "#### __2) Challenges for the agents__<br>\n",
    "\n",
    ">* __State perception:__\n",
    "Position of the gap between pipes. Position of the Bird. Distance between Bird from Pipes. The velocity of the bird. <br>\n",
    ">* __Environment perception:__\n",
    "Speed of the pipes (!), Gravity, the position of Ground & Sky<br>\n",
    ">* __Strategy learning:__\n",
    "Reaching home. The reaction against the obstacles in the right Time <br>\n",
    "\n",
    "#### __3) The technical implementation of learning__<br>\n",
    "\n",
    ">* __Architecture:__\n",
    "Neural network, NEAT & Genetic Algorithm (for optimizing Neural Network)\n",
    ">* __Perceptions:__\n",
    "Conditions of the Bird. Position of Pipes <br>\n",
    ">* __Conditions:__\n",
    ">Information passed, \n",
    ">find the best position for passing obstacles, <br>\n",
    ">* __Actions:__\n",
    "><u>Flap</u>, \n",
    "><u>Do nothing (don't jump)</u><br>"
   ]
  },
  {
   "cell_type": "markdown",
   "metadata": {},
   "source": [
    "---"
   ]
  },
  {
   "cell_type": "markdown",
   "metadata": {},
   "source": [
    "### Some Definition for Neural Networks:\n",
    "\n",
    ">\"**Neurons, cell bodies, and signals:**\n",
    "A neural network, either biological and artificial, consists of a large number of simple units, neurons, that receive and transmit signals to each other. The neurons are very simple processors of information, consisting of a cell body and wires that connect the neurons to each other. Most of the time, they do nothing but sit still and watch for signals coming in through the wires.\n",
    ">\n",
    ">**Weights and inputs:**\n",
    "The basic artificial neuron model involves a set of adaptive parameters, called weights like in linear and logistic regression. Just like in regression, these weights are used as multipliers on the inputs of the neuron, which are added up. The sum of the weights times the inputs is called the linear combination of the inputs. \n",
    ">\n",
    ">**Activations and outputs:**\n",
    "Once the linear combination has been computed, the neuron does one more operation. It takes the linear combination and puts it through a so-called activation function. Typical examples of the activation function include:\n",
    ">\n",
    ">* **Identity function:** do nothing and just output the linear combination\n",
    ">* **Step function:** if the value of the linear combination is greater than zero, send a pulse (ON), otherwise do nothing (OFF)\n",
    ">* **Sigmoid function:** a “soft” version of the step function\" [![Img AltText](src/logo_link.jpg)](https://course.elementsofai.com/5 \"Source\")\n",
    ">\n",
    ">__some more sentence about activation function:__ It's like an On/Off switch.<br> It takes in the output signal from the previous cell and converts it into some form that can be taken as input to the next cell.<br>\n",
    "Common types are: Threshold, Sigmoid, Tanh, softmax and ReLU.   In this game we use Sigmoid. \n",
    "\n",
    " "
   ]
  },
  {
   "cell_type": "markdown",
   "metadata": {},
   "source": [
    "<table><tr>\n",
    "<td>\n",
    "  <p align=\"center\" style=\"padding: 30px\">\n",
    "    <img alt=\"Forwarding\" src=\"src/af_thr.png\" width=\"200\" height=\"200\">\n",
    "    <br>\n",
    "    <em style=\"color: grey\">Threshold <br> $f(x)=\\begin{cases} 1 & if& x \\ge 0 \\\\ 0 & if & x < 0 \\end{cases}$</em>\n",
    "  </p>\n",
    "</td>\n",
    "<td>\n",
    "  <p align=\"center\" style=\"padding: 30px\">\n",
    "    <img alt=\"Routing\" src=\"src/af_tanh.png\" width=\"200\" height=\"200\">\n",
    "    <br>\n",
    "    <em style=\"color: grey\">Tanh <br>$ \\phi(x) = \\frac{\\sin (1-e^-2x)}{\\sin (1+e^-2x)} $</em>\n",
    "  </p> \n",
    "</td>\n",
    "<td> \n",
    "  <p align=\"center\" style=\"padding: 30px\">\n",
    "    <img alt=\"Forwarding\" src=\"src/af_sigmoid.png\" width=\"200\" height=\"200\">\n",
    "    <br>\n",
    "    <em style=\"color: grey\">Sigmoid <br>$ \\phi(x) = \\frac{1}{\\sin (1+e^-x)} $</em>\n",
    "  </p> \n",
    "</td>\n",
    "</tr></table>\n",
    "\n",
    "Each time the game is rendered, the neural network gets the input and activate it. If the output is greater than threshold, the bird will jumps, otherwise not.<br>\n",
    "<center> $f(x)=\\begin{cases} Jump & if& x \\ge threshhold \\\\ don't jump & if & x < threshhold \\end{cases}$ </center>\n",
    "\n",
    "\n",
    "<br>There are many sources about Neural Networks, but I really like this Book: [Make Your Own Neural Network](https://kupdf.net/download/make-your-own-neural-network-tariq-rashid-chb-books_598f6fe5dc0d60e932300d19_pdf) from Tariq Rashid"
   ]
  },
  {
   "cell_type": "markdown",
   "metadata": {},
   "source": [
    "---"
   ]
  },
  {
   "cell_type": "markdown",
   "metadata": {},
   "source": [
    "### Why we use Evolution Strategy?\n",
    "\n",
    "Neural network models can use back-propagation to calculate the gradient of function. Using this Gradient descent we are able to search to find the optimal solutions for our neural network problems. (end-to-end training) [![Img AltText](src/logo_link.jpg)](https://blog.otoro.net/2016/05/07/backprop-neat/ \"Source\")\n",
    "\n",
    "But this solution doesn't work for all problems. Sometimes we can calculate the gradient, it works very well if our shapes are in convex form. When we have a series of mountains in concave form (like Rastrigin function), in Reinforcement learning, we will be stuck in the local optimum.\n",
    "\n",
    "<center> <img src=\"src/local_optimal.gif\" alt=\"Alt\" title=\"Reinforcement Learning's Problem. from: blog.otoro.net\" style= \"width: 300px;\"/> </center>\n",
    "\n",
    "The solution might be ignoring gradient information and use *Genetic Algorithms* or *Evolutionary Strategy* [![Img AltText](src/t_logo.png)](https://twitter.com/i/status/889265345172615168 \"Solution with OpenAI method\") which is like Black-Box optimization techniques.\n"
   ]
  },
  {
   "cell_type": "markdown",
   "metadata": {},
   "source": [
    "**Black Box optimization** is about finding the minimum of a function $f(x):R_{n}→R$, where we don’t know its analytical form, and therefore no derivatives can be computed to minimize it (or are hard to approximate). <br>\n",
    "Back-propagation or value function estimation is not needed in Evolution Strategy anymore. We only require a forward pass of the policy. This makes our code shorter and increases speed and performance. [![Img AltText](src/logo_link.jpg)](https://pablormier.github.io/2017/09/05/a-tutorial-on-differential-evolution-with-python/ \"Source\") [![Img AltText](src/logo_link.jpg)](https://openai.com/blog/evolution-strategies/ \"Source\")\n"
   ]
  },
  {
   "cell_type": "markdown",
   "metadata": {},
   "source": [
    "---"
   ]
  },
  {
   "cell_type": "markdown",
   "metadata": {},
   "source": [
    "### <center> What is Evolution Strategy?</center>\n",
    "\n",
    "<table><tr>\n",
    "<td>\n",
    "  <p align=\"center\" style=\"padding: 3px\">\n",
    "    <img alt=\"dsf\" src=\"src/es_bear.png\">\n",
    "    <br>\n",
    "    <em style=\"color: grey\"> <center>elite Bears will survive and rest fall down :( </center></em>\n",
    "  </p>\n",
    "</td>\n",
    "</tr></table>\n",
    "\n",
    "\n",
    "Strongest will survive, rest will die and fall down :( and then parent population (Blue dot) offspring (green dot) survivors.\n",
    "Inheriting from parents. In Next Generation, we sample a new solution, by randomly selecting 2 solutions from a survivor from the previous generation (10%) and recombine the parameters to form a new solution (Cross-over and Mutation)\n",
    "\n",
    "\n",
    "\n",
    "\n",
    "Based on the fitness results of the current solutions, the algorithm will then produce the next generation of candidate solutions that is more likely to produce even better results than the current generation. The iterative process will stop once the best-known solution is satisfactory for the user.\n",
    "\n",
    "The body of algorithms in python is so:\n",
    "```python\n",
    "solver = EvolutionStrategy()\n",
    "\n",
    "while True:\n",
    "\n",
    "  # ask the ES to give us a set of candidate solutions\n",
    "  solutions = solver.ask()\n",
    "\n",
    "  # create an array to hold the fitness results.\n",
    "  fitness_list = np.zeros(solver.popsize)\n",
    "\n",
    "  # evaluate the fitness for each given solution.\n",
    "  for i in range(solver.popsize):\n",
    "    fitness_list[i] = evaluate(solutions[i])\n",
    "\n",
    "  # give list of fitness results back to ES\n",
    "  solver.tell(fitness_list)\n",
    "\n",
    "  # get best parameter, fitness from ES\n",
    "  best_solution, best_fitness = solver.result()\n",
    "\n",
    "  if best_fitness > MY_REQUIRED_FITNESS:\n",
    "    break\n",
    "```\n"
   ]
  },
  {
   "cell_type": "markdown",
   "metadata": {},
   "source": [
    "<table><tr>\n",
    "<td>\n",
    "  <p align=\"center\" style=\"padding: 3px\">\n",
    "    <img alt=\"dsf\" src=\"src/esi.png\" width=\"400\" height=\"400\">\n",
    "    <br>\n",
    "    <em style=\"color: grey\"> <center>Rastrigin function with many local optima</center></em>\n",
    "  </p>\n",
    "</td>\n",
    "<td> \n",
    "  <p align=\"center\" style=\"padding: 3px\">\n",
    "    <img alt=\"Forwarding\" src=\"src/esiii.png\" width=\"200\" height=\"200\">\n",
    "    <br>\n",
    "    <em style=\"color: grey\"><center>Projection of Rastrigin Function in 2D <br> (Colors act as third-dimension)</center></em>\n",
    "  </p> \n",
    "</td>\n",
    "<td>\n",
    "  <p align=\"center\" style=\"padding: 3px\">\n",
    "    <img alt=\"Routing\" src=\"src/esii.png\" width=\"200\" height=\"200\">\n",
    "    <br>\n",
    "      <em style=\"color: grey\"><center>Schaffer-2D Function. <br>(Waves are series of montain)</center></em>\n",
    "  </p> \n",
    "</td>\n",
    "</tr> <em style=\"color: grey\"> <center>Brighter points (yellow) are Local optimum. But our goal is to reach the Global maximum. <br> Our goal is to maximize F(x,y) to lead </center></em></table>\n"
   ]
  },
  {
   "cell_type": "markdown",
   "metadata": {},
   "source": [
    "---"
   ]
  },
  {
   "cell_type": "markdown",
   "metadata": {},
   "source": [
    "### Comparing **Evolution Strategy (left)** vs **Genetic Algorithm (center)** vs **CMA-ES (right)** \n",
    "* These ghraphics show, how the algorithm behaves over 20 generations to reach to Global Maximum:  [![Img AltText](src/logo_link.jpg)](https://blog.otoro.net/2017/10/29/visual-evolution-strategies/ \"Source\") [![Img AltText](src/logo_link.jpg)](https://www.udemy.com/course/artificial-intelligence-masterclass/ \"Source\") \n",
    "* In this graphic, you can see <font color=blue> Offsprings to form the set of candidate solutions (Sample solution) </font>, <font color=green> Elite Population from the previous generation ($\\mu$) </font>, <font color=red> Maximum of sample solution (Best solution)</font> <br>\n",
    "<table><tr>\n",
    "<td>\n",
    "  <p align=\"center\" style=\"padding: 3px\">\n",
    "    <img alt=\"dsf\" src=\"src/ses1.gif\">\n",
    "    <img alt=\"dsf\" src=\"src/ses2.gif\">\n",
    "    <br>\n",
    "    <em style=\"color: grey\"> <center>Simple Evolution Strategy</center></em>\n",
    "  </p>\n",
    "</td>\n",
    "<td> \n",
    "  <p align=\"center\" style=\"padding: 3px\">\n",
    "    <img alt=\"Forwarding\" src=\"src/sga1.gif\">\n",
    "    <img alt=\"dsf\" src=\"src/sga2.gif\">\n",
    "    <br>\n",
    "    <em style=\"color: grey\"><center>Simple Genetic Algorithm</center></em>\n",
    "  </p> \n",
    "</td>\n",
    "<td>\n",
    "  <p align=\"center\" style=\"padding: 3px\">\n",
    "    <img alt=\"Routing\" src=\"src/scmaes1.gif\">\n",
    "    <img alt=\"dsf\" src=\"src/scmaes2.gif\">\n",
    "    <br>\n",
    "      <em style=\"color: grey\"><center>Covariance-Matrix Adaptation Evolution Strategy (CMA-ES)</center></em>\n",
    "  </p> \n",
    "</td>\n",
    "</tr></table>\n"
   ]
  },
  {
   "cell_type": "markdown",
   "metadata": {},
   "source": [
    "|Simple ES  |Simple GA |CMA-ES |\n",
    "|:-----|:----:|----:|\n",
    "|vary $\\mu$     |vary $\\mu$     |vary $\\mu$    |\n",
    "|<font color=red>fix $\\sigma$</font>     |<font color=red>fix $\\sigma$</font>     |<font color=green>adoptive $\\sigma$</font>    |\n",
    "\n",
    "In Evolution Strategy and Genetic Algorithm Blue dot ($\\sigma$) around Red dot (Best solution) are always in the same range. But in CMA-ES, blue dot is in different ranges. CMA-ES is the better solution because $\\sigma$ isn't fixed. You can go around higher mounting if $\\sigma$ is high enough and you will not be in stuck in local maximum and catch the Global maximum."
   ]
  },
  {
   "cell_type": "markdown",
   "metadata": {},
   "source": [
    "---"
   ]
  },
  {
   "cell_type": "markdown",
   "metadata": {},
   "source": [
    "**What is Genetic Algorithm?**\n",
    "> \" It's a procedure that searches for a solution using operations that emulate processes that drive evolution. Over many iterations, the algorithm selects the best candidates (guesses) from a set of possible solutions, recombines them, and checks which combinations moved it closer to a solution. Less beneficial candidates are discarded. \" [![Img AltText](src/logo_link.jpg)](https://www.sitepoint.com/genetic-algorithms-introduction/ \"Source\")\n",
    "\n",
    "It is kind of evolution strategy. We use Genetic Algorithm to train Neural Network models. AS explained earlier, In Neural Network we have fixed number of variable, but evolution strategy it is vary. <br>\n",
    "It is also a search heuristic that is inspired by Charles Darwin’s theory of natural evolution. <br>The idea is to keep 10% of best-performing solutions (strongest) at sample solution and let others die and then parent population (Blue dot) offspring (green dot) survivors.\n",
    "Inheriting from parents. In Next Generation, we sample a new solution, by randomly selecting 2 solutions from a survivor from the previous generation (10%) and recombine the parameters to form a new solution (Cross-over and Mutation)\n",
    "\n",
    "<center> <img src=\"src/ga.png\" alt=\"Alt\" title=\"http://nn.cs.utexas.edu/downloads/slides/miikkulainen.ijcnn13.pdf\" style= \"width: 500px;\"/> </center>\n",
    "\n",
    "\n",
    "**Genetic Algorithm has Five phases:**  [*nice explaination*](https://towardsdatascience.com/introduction-to-genetic-algorithms-including-example-code-e396e98d8bf3) \n",
    "1) **Initial population**\n",
    "2) **Fitness function**\n",
    "3) **Selection**\n",
    "4) **Crossover**\n",
    "5) **Mutation** (*optional*)"
   ]
  },
  {
   "cell_type": "markdown",
   "metadata": {},
   "source": [
    "\n",
    ">&#9658; The process begins with a set of individuals which is called a **Population**. Each individual is a solution to the problem you want to solve. \n",
    "An individual is characterized by a set of parameters (variables) known as Genes. Genes are joined into a string to form a Chromosome (solution). \n",
    "in following example F(x,y) x and y are Genes here and in FlappyBird, 8 inputs of neural network.<br><br>\n",
    ">&#9658; The **fitness function** determines how fit an individual is (the ability of an individual to compete with other individuals). It gives a fitness score to each individual.<br><br>\n",
    ">&#9658; The idea of **selection** phase is to select the fittest individuals and let them pass their genes to the next generation.<br><br>\n",
    ">&#9658; For each pair of parents to be mated, a **crossover point** is chosen at random from within the genes.<br><br>\n",
    ">&#9658; **Offspring** are created by exchanging the genes of parents among themselves until the crossover point is reached.<br><br>\n",
    ">&#9658; **Mutation**, in certain new offspring formed, some of their genes can be subjected to a mutation with a low random probability. This implies that some of the bits in the bit string can be flipped.<br> Mutation occurs to maintain diversity within the population and prevent premature convergence. In NEAT, mutation can either mutate existing connections or can add new structure to a network. If a new connection is added between a start and end node, it is randomly assigned a weight.<br><br>\n",
    ">&#9658; The algorithm terminates if the population has converged (does not produce offspring which are significantly different from the previous generation). Then it is said that the genetic algorithm has provided a set of solutions to our problem. \n",
    "[![Img AltText](src/logo_link.jpg)](https://towardsdatascience.com/introduction-to-genetic-algorithms-including-example-code-e396e98d8bf3 \"Source\")\n"
   ]
  },
  {
   "cell_type": "markdown",
   "metadata": {},
   "source": [
    "Assume that I have 8 birds in one generation and each bird has 6 neurons. (In my actual implementation, I have 300 birds in a generation and 8 input neurons for each bird).<br>\n",
    "After one generation (300 games), I pick the best 4 birds and apply crossover and mutation. Repeat the same process until we get good results.\n",
    "<center> <img src=\"src/ga3.png\" alt=\"Alt\" title=\"Main Idea from: towardsdatascience.com/neural-network-plays-flappy-bird-e585b1e49d97\" style= \"width: 600px;\"/> </center>\n"
   ]
  },
  {
   "cell_type": "markdown",
   "metadata": {},
   "source": [
    "Another representation of GA Workflow should look like this:\n",
    "<center> <img src=\"src/es3.png\" alt=\"Alt\" title=\"from Google\" style= \"width: 600px;\"/> </center>"
   ]
  },
  {
   "cell_type": "markdown",
   "metadata": {},
   "source": [
    "---"
   ]
  },
  {
   "cell_type": "markdown",
   "metadata": {},
   "source": [
    "### What is NEAT? (NeuroEvolution of Augmenting Topologies)\n",
    "Short: It help nn to. NEAT is a kind of NeuroEvolution. It used for optimizing neural network structure\n",
    " is a method that can evolve new types of neural networks based on genetic algorithms. In NEAT our architecture is flexible. We will be allowed use many type of neuron with many types of activation functions."
   ]
  },
  {
   "cell_type": "markdown",
   "metadata": {},
   "source": [
    "> **What is NEAT?**\n",
    "\" stands for *NeuroEvolution of Augmenting Topologies*. It is a method for evolving artificial neural networks with a genetic algorithm. NEAT implements the idea that it is most effective to start evolution with small, simple networks and allow them to become increasingly complex over generations. That way, just as organisms in nature increased in complexity since the first cell, so do neural networks in NEAT. This process of continual elaboration allows finding highly sophisticated and complex neural networks. \"\n",
    "[![Img AltText](src/logo_link.jpg)](https://www.cs.ucf.edu/~kstanley/neat.html \"Source\")"
   ]
  },
  {
   "cell_type": "markdown",
   "metadata": {},
   "source": [
    "<center> <img src=\"src/random_struc_search.png\" alt=\"Alt\" title=\"from: TU-Dortmund Summer Course\" style= \"width: 600px;\"/> </center>"
   ]
  },
  {
   "cell_type": "markdown",
   "metadata": {},
   "source": [
    "Further: [Playground](https://otoro.net/ml/neat-playground/) (demo)  plus this [nice blog](https://blog.otoro.net/2016/05/07/backprop-neat/)"
   ]
  },
  {
   "cell_type": "markdown",
   "metadata": {},
   "source": [
    "---"
   ]
  },
  {
   "cell_type": "markdown",
   "metadata": {},
   "source": [
    "### Code: \n",
    "[![Img AltText](src/logo_link.jpg)](https://sushantpatrikar.github.io/flappybirdAI.html \"Source\")"
   ]
  },
  {
   "cell_type": "markdown",
   "metadata": {},
   "source": [
    "\n",
    ">For implementing Neat, first we initialize program with appending the population of birds. [<img src=\"src/logo_py.png\"/> game.py]\n",
    ">\n",
    ">```python\n",
    "def __init__(self):\n",
    "    for _ in range(self.population):\n",
    "        self.birds.append(Bird(self))\n",
    "    self.gameLoop()\n",
    ">```\n"
   ]
  },
  {
   "cell_type": "markdown",
   "metadata": {},
   "source": [
    "\n",
    "\n",
    ">in ```Bird()``` Class we see ```self.brain = NeuralNetwork(8, 5, 2)``` which refer to \n",
    ">~~~python\n",
    "class Bird:\n",
    "    def __init__(self, game):  #Initialize the objectself.\n",
    "        self.x = 50\n",
    "        self.radius = 15\n",
    "        from game import Game\n",
    "        self.y = Game.height // 2\n",
    "        self.y_vel = 0\n",
    "        self.gravity = 1\n",
    "        self.score = 0\n",
    "        self.fitness = 0\n",
    "        self.distance = 0\n",
    "        self.brain = NeuralNetwork(8, 5, 2)\n",
    "        self.game = game\n",
    "        self.inputs = 8 * [0]\n",
    ">~~~\n"
   ]
  },
  {
   "cell_type": "markdown",
   "metadata": {},
   "source": [
    "\n",
    ">if we come back to [<img src=\"src/logo_py.png\"/> neuralnetwork.py], in ```NeuralNetwork()``` class we will see: \n",
    ">~~~python\n",
    "class NeuralNetwork():\n",
    "    def __init__(self, input_nodes, hidden_nodes1, output_nodes):\n",
    "        self.input_nodes = input_nodes\n",
    "        self.hidden_nodes1 = hidden_nodes1\n",
    "        self.output_nodes = output_nodes\n",
    "        self.in_hidden1_weights = np.random.rand(self.hidden_nodes1, self.input_nodes)\n",
    "        self.hidden1_output_weights = np.random.rand(self.output_nodes, self.hidden_nodes1)\n",
    "        self.in_hidden1_biases = np.random.rand(self.hidden_nodes1, 1)\n",
    "        self.hidden1_output_biases = np.random.rand(self.output_nodes, 1)\n",
    "        self.sigmoid_v = np.vectorize(self.sigmoid)\n",
    ">~~~\n",
    "><br>\n",
    ">it actually gives 3 parameters ```NeuralNetwork (input_nodes, hidden_nodes, output_nodes)```. Hence, architecture of Neural Networks is similar to this shape:\n",
    "><center> <img src=\"src/archi.png\" alt=\"Alt\" title=\"From: yougov.com\" style= \"width: 600px;\"/> </center>\n",
    ">We also define 4 random metrics:\n",
    ">\n",
    ">- weights between hidden layer and input.\n",
    ">- weights between hidden layer and output. \n",
    ">- bias between hidden layer and input. \n",
    ">- bias between hidden layer and output. \n",
    "\n"
   ]
  },
  {
   "cell_type": "markdown",
   "metadata": {},
   "source": [
    "Now we back to __init__ method of game() class [<img src=\"src/logo_py.png\"/> game.py]\n",
    ">in game loop we traverse through every bird in ```self.bird``` list [<img src=\"src/logo_py.png\"/> game.py]\n",
    ">\n",
    ">~~~python\n",
    "for bird in self.birds:\n",
    "    birdAdd(bird)\n",
    "    birdCheckCollision(bird)\n",
    ">~~~\n",
    ">\n",
    ">and performing operation like: ```showBird()```, ```think()```, ```predict()``` [<img src=\"src/logo_py.png\"/> bird.py]"
   ]
  },
  {
   "cell_type": "markdown",
   "metadata": {},
   "source": [
    ">in ```Bird()``` class we have *x-position*, *y-position* and *radius* parameteres. [<img src=\"src/logo_py.png\"/> bird.py]\n",
    ">~~~python\n",
    "def showBird(self):\n",
    "        from game import Game\n",
    "        pygame.draw.circle(Game.gameDisplay, Game.birdColour, (self.x, self.y), self.radius)\n",
    ">~~~"
   ]
  },
  {
   "cell_type": "markdown",
   "metadata": {},
   "source": [
    "> **Lets look at Neural Networks inputs:**  [<img src=\"src/logo_py.png\"/> bird.py]<br>\n",
    ">\n",
    " >       1. horizontal distance from the start of pipe \n",
    " >       2. horizontal distance from the end of pipe\n",
    " >       3. vertical distance from the upper pipe\n",
    " >       4. verical distance from the lower pipe\n",
    " >       5. y position of bird\n",
    " >       6. y velocity of bird\n",
    " >       7. vertical distance from upper wall\n",
    " >       8. vertical distance from ground\n",
    " ><br>\n",
    " > <center> <img src=\"src/input.png\" alt=\"Alt\" title=\"sss\" style= \"width: 400px;\"/> </center>\n"
   ]
  },
  {
   "cell_type": "markdown",
   "metadata": {},
   "source": [
    ">We also calculate inputs for Neural Network using ```think()``` in ```Bird()``` class and normalize them. [<img src=\"src/logo_py.png\"/> bird.py]\n",
    ">~~~python\n",
    "def think(self):\n",
    ">\n",
    ">        pipe = self.findClosestPipe()\n",
    ">\n",
    ">        dis_1 = pipe.x - (self.x + self.radius)\n",
    ">        dis_1 /= self.game.width\n",
    ">        self.inputs[0] = dis_1\n",
    ">\n",
    ">        dis_2 = (pipe.x + 75) - (self.x + self.radius)\n",
    ">        dis_2 /= self.game.width\n",
    ">        self.inputs[1] = dis_2\n",
    ">\n",
    ">        dis_3 = (self.y - self.radius) - (pipe.y - pipe.gap)\n",
    ">        dis_3 /= self.game.height\n",
    ">        self.inputs[2] = dis_3\n",
    ">\n",
    ">        dis_4 = (self.y + self.radius) - (pipe.y)\n",
    ">        dis_4 /= self.game.height\n",
    ">        self.inputs[3] = dis_4\n",
    ">\n",
    ">        y_pos = self.y\n",
    ">        y_pos /= self.game.height\n",
    ">        self.inputs[4] = y_pos\n",
    ">\n",
    ">        y_vel = self.y_vel\n",
    ">        y_vel /= self.game.height\n",
    ">        self.inputs[5] = y_vel\n",
    ">\n",
    ">        ver_dis_1 = (self.y - self.radius)\n",
    ">        ver_dis_1 /= self.game.height\n",
    ">        self.inputs[6] = ver_dis_1\n",
    ">\n",
    ">        ver_dis_2 = (self.y + self.radius) - self.game.height\n",
    ">        ver_dis_2 /= self.game.height\n",
    ">        self.inputs[7] = ver_dis_2\n",
    ">~~~"
   ]
  },
  {
   "cell_type": "markdown",
   "metadata": {},
   "source": [
    "similar to :\n",
    "<<<< higher generation we can see more offshoring>>>>\n",
    "\n",
    "<table><tr>\n",
    "<td> \n",
    "  <p align=\"center\" style=\"padding: 10px\">\n",
    "    <img alt=\"Forwarding\" src=\"src/gen1.gif\" width=\"200\">\n",
    "    <br>\n",
    "    <em style=\"color: grey\">first 5 generation</em>\n",
    "  </p> \n",
    "</td>\n",
    "<td> \n",
    "  <p align=\"center\" style=\"padding: 10px\">\n",
    "    <img alt=\"Routing\" src=\"src/gen2.gif\" width=\"200\">\n",
    "    <br>\n",
    "    <em style=\"color: grey\">second 5 generation</em>\n",
    "  </p> \n",
    "</td>\n",
    "<td> \n",
    "  <p align=\"center\" style=\"padding: 10px\">\n",
    "    <img alt=\"Forwarding\" src=\"src/gen3.gif\" width=\"200\">\n",
    "    <br>\n",
    "    <em style=\"color: grey\">12 to 15 Generation</em>\n",
    "  </p> \n",
    "</td>\n",
    "</tr></table>\n"
   ]
  },
  {
   "cell_type": "markdown",
   "metadata": {},
   "source": [
    ">Neural Network take calculated inputs from ```think()``` and predict wether *jump* or *not*. [<img src=\"src/logo_py.png\"/> bird.py]\n",
    "><br>\n",
    ">~~~python\n",
    ">def predict(self):\n",
    ">        self.inputs = np.reshape(self.inputs, (8, 1))\n",
    ">        output = self.brain.feedforward(self.inputs)\n",
    ">        output = np.argmax(output)\n",
    ">\n",
    ">        if output == 0:\n",
    ">            self.moveUp()\n",
    ">        elif output == 1:\n",
    ">            pass\n",
    ">~~~"
   ]
  },
  {
   "cell_type": "markdown",
   "metadata": {},
   "source": [
    ">Now we handle consequences of the action from prevoius step: [<img src=\"src/logo_py.png\"/> game.py]\n",
    ">\n",
    ">~~~python\n",
    "># Handles wall or pipe collision by adding and removing birds from the lists\n",
    ">if bird.collidingWall() or bird.collidingPipe():\n",
    "    self.savedBirds.append(bird)\n",
    "    self.birds.remove(bird)\n",
    ">\n",
    ">    # Handles the death of the last bird\n",
    ">    if len(self.birds) == 0:\n",
    ">        self.gameDisplay.blit(self.image, [0, 0])\n",
    ">        self.pipes = []\n",
    ">        self.counter = 0\n",
    ">        ga = GA(self)\n",
    ">        ga.nextGeneration()\n",
    ">        self.generation += 1\n",
    ">        self.gameLoop()\n",
    ">~~~\n",
    "><br>\n",
    ">\n",
    ">This block of code checks that if the bird is colliding with walls (ground or sky) or with the pipes, then it deletes the bird from the ``` self.birds ``` list (mean die). Then if the list becomes empty then our *NEAT* algorithm comes in action.\n",
    "\n",
    "\n"
   ]
  },
  {
   "cell_type": "markdown",
   "metadata": {},
   "source": [
    ">Since our list has became empty, which means our generation has died, creating the nextGeneration from ```ga``` class based on fitness. [<img src=\"src/logo_py.png\"/> ga.py]\n",
    ">\n",
    ">~~~python\n",
    "def nextGeneration(self):\n",
    "        self.calculateFitness()\n",
    "        if (self.game.foundBestBird):\n",
    "            child = Bird(self.game)\n",
    "            child.brain = self.game.bestBirdBrain\n",
    "            self.game.birds.append(child)\n",
    "        else:\n",
    ">            self.game.birds.append(self.game.savedBirds[random.randrange(self.game.population)])\n",
    "        for i in range(self.game.population - 1):\n",
    "            self.game.birds.append(self.pickOne())\n",
    "        self.game.savedBirds = []\n",
    ">~~~\n",
    "><br>Here, we first calculate the fitness of every bird, then we check if the best bird is found, i.e if the any of the birds has surpassed the best score which is initially 0. If the best bird is found then we apeend the child with the brain of that best bird and the rest 299 birds by ```pickOne()``` method [<img src=\"src/logo_py.png\"/> ga.py], otherwise, we append one random bird from the population and rest 299 by pickOne() method.\n"
   ]
  },
  {
   "cell_type": "markdown",
   "metadata": {},
   "source": [
    ">```calculateFitness()``` calculates the fitness of each bird based on the distance travelled by him and and it's score. [<img src=\"src/logo_py.png\"/> ga.py]\n",
    ">\n",
    ">~~~python\n",
    "def calculateFitness(self):\n",
    "        summ = 0\n",
    "        for bird in self.game.savedBirds:\n",
    "            bird.calculateFitness()\n",
    "            summ += bird.fitness\n",
    "        for bird in self.game.savedBirds:\n",
    "            bird.fitness /= summ\n",
    ">~~~\n",
    "><br>So, we traverse through every bird object of the previous generation which is saved in our ```self.savedBirds``` list, and then call the method ```calculateFitness()``` of the ```bird``` class. [<img src=\"src/logo_py.png\"/> bird.py]\n",
    ">\n",
    ">~~~python\n",
    "def calculateFitness(self):\n",
    "        self.fitness = math.pow(2, self.score) + (self.distance ** 2)\n",
    ">~~~\n",
    ">\n",
    "><br>The ```calculateFitness()``` method of ```Bird()``` class calculates the fitness of bird. It is a function of score as well as distance, but more priority is given to score of the bird. So, the more the score and the distance, the more the fitness, & more chances of getting picked up for mating.\n",
    "><br>```calculateFitness()``` method [<img src=\"src/logo_py.png\"/> ga.py] calculate  the fitness of every bird and normalize them.\n",
    ">\n",
    ">\n",
    ">\n",
    ">\n"
   ]
  },
  {
   "cell_type": "markdown",
   "metadata": {},
   "source": [
    "\n",
    "\n",
    ">~~~python\n",
    ">def pickOne(self):\n",
    ">        r1 = random.uniform(0, 1)\n",
    ">        index = 0\n",
    ">        while r1 > 0:\n",
    ">            r1 -= self.game.savedBirds[index].fitness\n",
    ">            index += 1\n",
    ">        index -= 1\n",
    ">\n",
    ">        bird1 = self.game.savedBirds[index]\n",
    ">\n",
    ">        r2 = random.uniform(0, 1)\n",
    ">        index_2 = 0\n",
    ">\n",
    ">        while r2 > 0:\n",
    ">            r2 -= self.game.savedBirds[index_2].fitness\n",
    ">            index_2 += 1\n",
    ">        index_2 -= 1\n",
    ">\n",
    ">        bird2 = self.game.savedBirds[index_2]\n",
    ">\n",
    ">        child = Bird(self.game)\n",
    ">\n",
    ">        child.brain.in_hidden1_weights = bird1.brain.crossover(bird1.brain.in_hidden1_weights, bird2.brain.in_hidden1_weights)\n",
    ">        child.brain.in_hidden1_biases = bird1.brain.crossover(bird1.brain.in_hidden1_biases, bird2.brain.in_hidden1_biases)\n",
    ">        child.brain.hidden1_output_weights = bird1.brain.crossover(bird1.brain.hidden1_output_weights, bird2.brain.hidden1_output_weights)\n",
    ">        child.brain.hidden1_output_biases = bird1.brain.crossover(bird1.brain.hidden1_output_biases, bird2.brain.hidden1_output_biases)\n",
    ">\n",
    ">        child.brain.mutate(child.brain.in_hidden1_weights, 0.3)\n",
    ">        child.brain.mutate(child.brain.in_hidden1_biases, 0.3)\n",
    ">        child.brain.mutate(child.brain.hidden1_output_weights, 0.3)\n",
    ">        child.brain.mutate(child.brain.hidden1_output_biases, 0.3)\n",
    ">        return child\n",
    "> ~~~\n",
    "><br>it returns a child. The job of ```pickOne()``` is to append the 300 children to our ```self.birds``` list. [<img src=\"src/logo_py.png\"/> ga.py] But before returning child, it will need his parents (2 birds of previous generation). So for each 300 birds, there will be a pair of birds who are crossovered. <br>\n",
    "><br>**how does the pair is selected?**\n",
    "We select two parent one-by one, based on their fitness, the more the fitness, more is the probabiity of them to get selected. It's not necessary that the two parent will be different, sometimes, the parent can be the same bird, it all depends on the fitness value of the birds in the previous generation. After selecting the parents, the bird is crossovered. Which means, we take all the 4 matrices of parent 1 and mix them with the corresponding matrices of it's counterpart.<br>\n",
    "<br>**How do we mix them?** We take the upper half rows of parent 1, lower half rows of parent 2 and combine them to return a matrix, which is a combination of both the matrices. [<img src=\"src/logo_py.png\"/> neuralnetwork.py] \n",
    ">\n",
    ">~~~python\n",
    "def crossover(self, mat1, mat2):\n",
    "        childMat = np.zeros((mat1.shape[0], mat1.shape[1]))\n",
    "        x = mat1.shape[0] // 2\n",
    "        childMat[:x], childMat[x:] = mat1[:x], mat2[x:]\n",
    "        return childMat\n",
    ">~~~\n",
    "><br>Now we have the 4 matrices of child bird which has the combination of traits of his parents, but the bird should acquire some new traits, so we mutate the 4 matrices.\n",
    ">\n",
    "> <center> <img src=\"src/crossover.png\" style= \"width: 400px;\"/> </center><br>\n",
    ">\n",
    ">```mutate()``` traverse through the matrix, and pick element based on the rate, which is the probability, in our case 30% and twerk the element by adding a random number between -0.1 to 0.1. The rate defines, the probability of the element getting twerked. In our case, while traversing through the matrix, the probability of twerking the particular element is 30%.\n",
    "> ~~~python\n",
    "def crossover(self, mat1, mat2):\n",
    "        childMat = np.zeros((mat1.shape[0], mat1.shape[1]))\n",
    "        x = mat1.shape[0] // 2\n",
    "        childMat[:x], childMat[x:] = mat1[:x], mat2[x:]\n",
    "        return childMat\n",
    ">~~~\n"
   ]
  },
  {
   "cell_type": "markdown",
   "metadata": {},
   "source": [
    "<br><br>Thank you for your attention <br>\n"
   ]
  }
 ],
 "metadata": {
  "kernelspec": {
   "display_name": "Python 3",
   "language": "python",
   "name": "python3"
  },
  "language_info": {
   "codemirror_mode": {
    "name": "ipython",
    "version": 3
   },
   "file_extension": ".py",
   "mimetype": "text/x-python",
   "name": "python",
   "nbconvert_exporter": "python",
   "pygments_lexer": "ipython3",
   "version": "3.8.0"
  }
 },
 "nbformat": 4,
 "nbformat_minor": 4
}
